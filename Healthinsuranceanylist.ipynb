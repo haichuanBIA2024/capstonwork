{
 "cells": [
  {
   "cell_type": "markdown",
   "id": "20bdbee9-6c99-4003-82a6-cf9f9bb0014a",
   "metadata": {},
   "source": [
    "# **1. Understanding the Problem and Objective:**\n",
    "Before diving into the data, we need understand the problem we are trying to solve and the goals of our analysis. This helps in directing our exploration and identifying relevant patterns.For this Health Insurance data,this dataset is about an Insurance company that has provided Health Insurance to its customers. Now we need build a model to predict whether the policyholders (customers) from past year will also be interested in Vehicle Insurance provided by the company."
   ]
  },
  {
   "cell_type": "markdown",
   "id": "820f5756-15ce-46f8-abd4-b09632fcc21f",
   "metadata": {},
   "source": [
    "# **2. Importing libraries and Loading the Dataset:**"
   ]
  },
  {
   "cell_type": "code",
   "execution_count": 2,
   "id": "6f4f94c5-8d7e-430c-803c-b7e7bcc7aa90",
   "metadata": {},
   "outputs": [],
   "source": [
    "import numpy as np\n",
    "import pandas as pd\n",
    "import seaborn as sns\n",
    "import matplotlib.pyplot as plt\n",
    "import sklearn"
   ]
  },
  {
   "cell_type": "code",
   "execution_count": 3,
   "id": "65da518c-3449-456d-91d7-cc50722cb541",
   "metadata": {},
   "outputs": [],
   "source": [
    "traind= pd.read_csv(\"./data/train.csv\")\n",
    "testd= pd.read_csv(\"./data/test.csv\")"
   ]
  },
  {
   "cell_type": "code",
   "execution_count": 4,
   "id": "070c347e-e97f-4f7e-b004-dc5bb2d40b23",
   "metadata": {},
   "outputs": [
    {
     "data": {
      "text/html": [
       "<div>\n",
       "<style scoped>\n",
       "    .dataframe tbody tr th:only-of-type {\n",
       "        vertical-align: middle;\n",
       "    }\n",
       "\n",
       "    .dataframe tbody tr th {\n",
       "        vertical-align: top;\n",
       "    }\n",
       "\n",
       "    .dataframe thead th {\n",
       "        text-align: right;\n",
       "    }\n",
       "</style>\n",
       "<table border=\"1\" class=\"dataframe\">\n",
       "  <thead>\n",
       "    <tr style=\"text-align: right;\">\n",
       "      <th></th>\n",
       "      <th>id</th>\n",
       "      <th>Gender</th>\n",
       "      <th>Age</th>\n",
       "      <th>Driving_License</th>\n",
       "      <th>Region_Code</th>\n",
       "      <th>Previously_Insured</th>\n",
       "      <th>Vehicle_Age</th>\n",
       "      <th>Vehicle_Damage</th>\n",
       "      <th>Annual_Premium</th>\n",
       "      <th>Policy_Sales_Channel</th>\n",
       "      <th>Vintage</th>\n",
       "      <th>Response</th>\n",
       "    </tr>\n",
       "  </thead>\n",
       "  <tbody>\n",
       "    <tr>\n",
       "      <th>0</th>\n",
       "      <td>1</td>\n",
       "      <td>Male</td>\n",
       "      <td>44</td>\n",
       "      <td>1</td>\n",
       "      <td>28.0</td>\n",
       "      <td>0</td>\n",
       "      <td>&gt; 2 Years</td>\n",
       "      <td>Yes</td>\n",
       "      <td>40454.0</td>\n",
       "      <td>26.0</td>\n",
       "      <td>217</td>\n",
       "      <td>1</td>\n",
       "    </tr>\n",
       "    <tr>\n",
       "      <th>1</th>\n",
       "      <td>2</td>\n",
       "      <td>Male</td>\n",
       "      <td>76</td>\n",
       "      <td>1</td>\n",
       "      <td>3.0</td>\n",
       "      <td>0</td>\n",
       "      <td>1-2 Year</td>\n",
       "      <td>No</td>\n",
       "      <td>33536.0</td>\n",
       "      <td>26.0</td>\n",
       "      <td>183</td>\n",
       "      <td>0</td>\n",
       "    </tr>\n",
       "    <tr>\n",
       "      <th>2</th>\n",
       "      <td>3</td>\n",
       "      <td>Male</td>\n",
       "      <td>47</td>\n",
       "      <td>1</td>\n",
       "      <td>28.0</td>\n",
       "      <td>0</td>\n",
       "      <td>&gt; 2 Years</td>\n",
       "      <td>Yes</td>\n",
       "      <td>38294.0</td>\n",
       "      <td>26.0</td>\n",
       "      <td>27</td>\n",
       "      <td>1</td>\n",
       "    </tr>\n",
       "    <tr>\n",
       "      <th>3</th>\n",
       "      <td>4</td>\n",
       "      <td>Male</td>\n",
       "      <td>21</td>\n",
       "      <td>1</td>\n",
       "      <td>11.0</td>\n",
       "      <td>1</td>\n",
       "      <td>&lt; 1 Year</td>\n",
       "      <td>No</td>\n",
       "      <td>28619.0</td>\n",
       "      <td>152.0</td>\n",
       "      <td>203</td>\n",
       "      <td>0</td>\n",
       "    </tr>\n",
       "    <tr>\n",
       "      <th>4</th>\n",
       "      <td>5</td>\n",
       "      <td>Female</td>\n",
       "      <td>29</td>\n",
       "      <td>1</td>\n",
       "      <td>41.0</td>\n",
       "      <td>1</td>\n",
       "      <td>&lt; 1 Year</td>\n",
       "      <td>No</td>\n",
       "      <td>27496.0</td>\n",
       "      <td>152.0</td>\n",
       "      <td>39</td>\n",
       "      <td>0</td>\n",
       "    </tr>\n",
       "  </tbody>\n",
       "</table>\n",
       "</div>"
      ],
      "text/plain": [
       "   id  Gender  Age  Driving_License  Region_Code  Previously_Insured  \\\n",
       "0   1    Male   44                1         28.0                   0   \n",
       "1   2    Male   76                1          3.0                   0   \n",
       "2   3    Male   47                1         28.0                   0   \n",
       "3   4    Male   21                1         11.0                   1   \n",
       "4   5  Female   29                1         41.0                   1   \n",
       "\n",
       "  Vehicle_Age Vehicle_Damage  Annual_Premium  Policy_Sales_Channel  Vintage  \\\n",
       "0   > 2 Years            Yes         40454.0                  26.0      217   \n",
       "1    1-2 Year             No         33536.0                  26.0      183   \n",
       "2   > 2 Years            Yes         38294.0                  26.0       27   \n",
       "3    < 1 Year             No         28619.0                 152.0      203   \n",
       "4    < 1 Year             No         27496.0                 152.0       39   \n",
       "\n",
       "   Response  \n",
       "0         1  \n",
       "1         0  \n",
       "2         1  \n",
       "3         0  \n",
       "4         0  "
      ]
     },
     "execution_count": 4,
     "metadata": {},
     "output_type": "execute_result"
    }
   ],
   "source": [
    "traind.head()"
   ]
  },
  {
   "cell_type": "code",
   "execution_count": 7,
   "id": "e8559243-44b7-48ff-a43d-8e589e0e8fa6",
   "metadata": {},
   "outputs": [
    {
     "name": "stdout",
     "output_type": "stream",
     "text": [
      "<class 'pandas.core.frame.DataFrame'>\n",
      "RangeIndex: 362054 entries, 0 to 362053\n",
      "Data columns (total 12 columns):\n",
      " #   Column                Non-Null Count   Dtype  \n",
      "---  ------                --------------   -----  \n",
      " 0   id                    362054 non-null  int64  \n",
      " 1   Gender                362054 non-null  object \n",
      " 2   Age                   362054 non-null  int64  \n",
      " 3   Driving_License       362054 non-null  int64  \n",
      " 4   Region_Code           362054 non-null  float64\n",
      " 5   Previously_Insured    362054 non-null  int64  \n",
      " 6   Vehicle_Age           362054 non-null  object \n",
      " 7   Vehicle_Damage        362054 non-null  object \n",
      " 8   Annual_Premium        362054 non-null  float64\n",
      " 9   Policy_Sales_Channel  362054 non-null  float64\n",
      " 10  Vintage               362054 non-null  int64  \n",
      " 11  Response              362054 non-null  int64  \n",
      "dtypes: float64(3), int64(6), object(3)\n",
      "memory usage: 33.1+ MB\n"
     ]
    }
   ],
   "source": [
    "traind.info()"
   ]
  },
  {
   "cell_type": "code",
   "execution_count": 8,
   "id": "26aae5ae-f8e9-4fe2-a315-5b5283f16fcb",
   "metadata": {},
   "outputs": [
    {
     "data": {
      "text/plain": [
       "(362054, 12)"
      ]
     },
     "execution_count": 8,
     "metadata": {},
     "output_type": "execute_result"
    }
   ],
   "source": [
    "traind.shape"
   ]
  },
  {
   "cell_type": "markdown",
   "id": "7abc56ea-6e09-40b7-b908-1ab321704a8a",
   "metadata": {},
   "source": [
    "# **3. Checking the Missing Values :**"
   ]
  },
  {
   "cell_type": "code",
   "execution_count": 9,
   "id": "6aec05aa-5b00-4a87-bcb1-c58f637cf7f9",
   "metadata": {},
   "outputs": [
    {
     "data": {
      "text/plain": [
       "id                      0\n",
       "Gender                  0\n",
       "Age                     0\n",
       "Driving_License         0\n",
       "Region_Code             0\n",
       "Previously_Insured      0\n",
       "Vehicle_Age             0\n",
       "Vehicle_Damage          0\n",
       "Annual_Premium          0\n",
       "Policy_Sales_Channel    0\n",
       "Vintage                 0\n",
       "Response                0\n",
       "dtype: int64"
      ]
     },
     "execution_count": 9,
     "metadata": {},
     "output_type": "execute_result"
    }
   ],
   "source": [
    "missing_values = traind.isnull().sum()\n",
    "missing_values"
   ]
  },
  {
   "cell_type": "markdown",
   "id": "b4aeec3f-6fa8-4251-8e5f-54f5b3e16e16",
   "metadata": {},
   "source": [
    "# **4. ERD:**"
   ]
  },
  {
   "cell_type": "code",
   "execution_count": 11,
   "id": "793fe0f6-1c57-4b6c-99fa-ed5d7ec1da16",
   "metadata": {},
   "outputs": [],
   "source": [
    "sns.set(style=\"whitegrid\")"
   ]
  },
  {
   "cell_type": "code",
   "execution_count": 16,
   "id": "6a10065c-d493-4914-8fe0-68c8d1b4572f",
   "metadata": {
    "scrolled": true
   },
   "outputs": [
    {
     "name": "stderr",
     "output_type": "stream",
     "text": [
      "C:\\Users\\biauser\\miniconda3\\envs\\pc311\\Lib\\site-packages\\seaborn\\_oldcore.py:1119: FutureWarning: use_inf_as_na option is deprecated and will be removed in a future version. Convert inf values to NaN before operating instead.\n",
      "  with pd.option_context('mode.use_inf_as_na', True):\n"
     ]
    },
    {
     "data": {
      "image/png": "[encoded data removed]",
      "text/plain": [
       "<Figure size 1000x600 with 1 Axes>"
      ]
     },
     "metadata": {},
     "output_type": "display_data"
    }
   ],
   "source": [
    "plt.figure(figsize=(10, 6))\n",
    "sns.histplot(traind['Age'], kde=False, bins=10)\n",
    "plt.title('Distribution of Age')\n",
    "plt.xlabel('Age')\n",
    "plt.ylabel('Frequency')\n",
    "plt.show()"
   ]
  },
  {
   "cell_type": "code",
   "execution_count": 17,
   "id": "bd7a10ce-7fe2-4e8c-be14-263f401e300b",
   "metadata": {},
   "outputs": [
    {
     "name": "stderr",
     "output_type": "stream",
     "text": [
      "C:\\Users\\biauser\\miniconda3\\envs\\pc311\\Lib\\site-packages\\seaborn\\_oldcore.py:1119: FutureWarning: use_inf_as_na option is deprecated and will be removed in a future version. Convert inf values to NaN before operating instead.\n",
      "  with pd.option_context('mode.use_inf_as_na', True):\n"
     ]
    },
    {
     "data": {
      "image/png": "[encoded data removed]",
      "text/plain": [
       "<Figure size 1000x600 with 1 Axes>"
      ]
     },
     "metadata": {},
     "output_type": "display_data"
    }
   ],
   "source": [
    "plt.figure(figsize=(10, 6))\n",
    "sns.histplot(traind['Vehicle_Age'], kde=False, bins=10)\n",
    "plt.title('Distribution of Vehicle_Age')\n",
    "plt.xlabel('Vehicle_Age')\n",
    "plt.ylabel('Frequency')\n",
    "plt.show()"
   ]
  },
  {
   "cell_type": "code",
   "execution_count": 22,
   "id": "63b68bf3-9d78-4766-a85e-78e0c5b93783",
   "metadata": {},
   "outputs": [
    {
     "data": {
      "text/plain": [
       "Text(0.5, 1.0, 'Checking Imbalance in Training Data Or Response')"
      ]
     },
     "execution_count": 22,
     "metadata": {},
     "output_type": "execute_result"
    },
    {
     "data": {
      "text/plain": [
       "<Figure size 600x600 with 0 Axes>"
      ]
     },
     "metadata": {},
     "output_type": "display_data"
    },
    {
     "data": {
      "image/png": "[encoded data removed]",
      "text/plain": [
       "<Figure size 640x480 with 1 Axes>"
      ]
     },
     "metadata": {},
     "output_type": "display_data"
    }
   ],
   "source": [
    "response_data = traind['Response'].value_counts()\n",
    "plt.figure(figsize=(6,6))\n",
    "fig, ax = plt.subplots()\n",
    "ax.pie(response_data, labels = ['notintresent0','intresent1'])\n",
    "ax.set_title('Checking Imbalance in Training Data Or Response')"
   ]
  },
  {
   "cell_type": "code",
   "execution_count": 31,
   "id": "9c26b5f3-2fc2-49bb-a032-d5ec4dc179c0",
   "metadata": {},
   "outputs": [],
   "source": [
    "X_full = traind.copy()\n",
    "y = X_full.Response\n",
    "X_full.drop(['Response'], axis=1, inplace=True)"
   ]
  },
  {
   "cell_type": "code",
   "execution_count": 32,
   "id": "ac890bed-feb3-47f0-bb6c-b26fdf0c17a6",
   "metadata": {},
   "outputs": [
    {
     "data": {
      "text/html": [
       "<div>\n",
       "<style scoped>\n",
       "    .dataframe tbody tr th:only-of-type {\n",
       "        vertical-align: middle;\n",
       "    }\n",
       "\n",
       "    .dataframe tbody tr th {\n",
       "        vertical-align: top;\n",
       "    }\n",
       "\n",
       "    .dataframe thead th {\n",
       "        text-align: right;\n",
       "    }\n",
       "</style>\n",
       "<table border=\"1\" class=\"dataframe\">\n",
       "  <thead>\n",
       "    <tr style=\"text-align: right;\">\n",
       "      <th>col_0</th>\n",
       "      <th>count</th>\n",
       "      <th>frequency</th>\n",
       "    </tr>\n",
       "    <tr>\n",
       "      <th>Response</th>\n",
       "      <th></th>\n",
       "      <th></th>\n",
       "    </tr>\n",
       "  </thead>\n",
       "  <tbody>\n",
       "    <tr>\n",
       "      <th>0</th>\n",
       "      <td>317768</td>\n",
       "      <td>0.877681</td>\n",
       "    </tr>\n",
       "    <tr>\n",
       "      <th>1</th>\n",
       "      <td>44286</td>\n",
       "      <td>0.122319</td>\n",
       "    </tr>\n",
       "  </tbody>\n",
       "</table>\n",
       "</div>"
      ],
      "text/plain": [
       "col_0      count  frequency\n",
       "Response                   \n",
       "0         317768   0.877681\n",
       "1          44286   0.122319"
      ]
     },
     "execution_count": 32,
     "metadata": {},
     "output_type": "execute_result"
    }
   ],
   "source": [
    "count = pd.crosstab(index = y, columns=\"count\")\n",
    "percentage = pd.crosstab(index = y, columns=\"frequency\")/pd.crosstab(index = y, columns=\"frequency\").sum()\n",
    "pd.concat([count, percentage], axis=1)"
   ]
  },
  {
   "cell_type": "code",
   "execution_count": 36,
   "id": "cafe1d6f-38be-451f-a35b-e3d68609bb25",
   "metadata": {},
   "outputs": [
    {
     "data": {
      "text/plain": [
       "Text(0.5, 1.0, 'Checking Imbalance in Training Data Or Vehicle_Damage')"
      ]
     },
     "execution_count": 36,
     "metadata": {},
     "output_type": "execute_result"
    },
    {
     "data": {
      "text/plain": [
       "<Figure size 600x600 with 0 Axes>"
      ]
     },
     "metadata": {},
     "output_type": "display_data"
    },
    {
     "data": {
      "image/png": "[encoded data removed]",
      "text/plain": [
       "<Figure size 640x480 with 1 Axes>"
      ]
     },
     "metadata": {},
     "output_type": "display_data"
    }
   ],
   "source": [
    "VehicleDamage_data = traind['Vehicle_Damage'].value_counts()\n",
    "plt.figure(figsize=(6,6))\n",
    "fig, ax = plt.subplots()\n",
    "ax.pie(VehicleDamage_data, labels = ['yes','no'])\n",
    "ax.set_title('Checking Imbalance in Training Data Or Vehicle_Damage')"
   ]
  },
  {
   "cell_type": "code",
   "execution_count": 26,
   "id": "17521ab3-3f5c-4882-aaa9-6f3772d9a89c",
   "metadata": {},
   "outputs": [],
   "source": [
    "X_train = traind[['Age', 'Driving_License', 'Region_Code', 'Previously_Insured', 'Annual_Premium', 'Policy_Sales_Channel', 'Vintage']]\n",
    "y_train = traind['Response']"
   ]
  },
  {
   "cell_type": "code",
   "execution_count": 28,
   "id": "784a5b6a-ab0e-4cad-ad89-99681d73b39e",
   "metadata": {},
   "outputs": [
    {
     "name": "stdout",
     "output_type": "stream",
     "text": [
      "Response\n",
      "0    317768\n",
      "1     44286\n",
      "Name: count, dtype: int64\n",
      "\n"
     ]
    }
   ],
   "source": [
    "import imblearn\n",
    "from imblearn.over_sampling import SMOTE\n",
    "smote = SMOTE()\n",
    "X_train_smote, y_train_smote = smote.fit_resample(X_train, y_train)\n",
    "print(y_train.value_counts())\n",
    "print()"
   ]
  },
  {
   "cell_type": "markdown",
   "id": "98270557-8c95-40fb-b737-31f16b03a4f4",
   "metadata": {},
   "source": [
    "# **5.Suggustion:**"
   ]
  },
  {
   "cell_type": "markdown",
   "id": "640b11e2-0311-47f7-8649-41b3c064ba70",
   "metadata": {},
   "source": [
    "* Based on the data and information provided, to get your company's employees to purchase automobile insurance, we give the following advice:\n",
    "# Education and Awareness Raising:\n",
    "First, as company employees are generally younger and less mature in their consumer attitudes, education and awareness-raising on the importance of automobile insurance may be needed. This can be done by organizing insurance knowledge seminars, providing relevant documents or video materials, etc., so that employees can understand the benefits and necessity of auto insurance.\n",
    "# Personalized recommendations:\n",
    "Given that the age of vehicles is mainly distributed in the range of 1 year to 2 years, and the overall low willingness of employees to purchase vehicle insurance, personalized insurance program recommendations can be provided for this group. For example, insurance packages, discounts or value-added services for new vehicle owners to entice them to purchase.\n"
   ]
  },
  {
   "cell_type": "code",
   "execution_count": null,
   "id": "1b7d607b-2fe5-4199-98b4-1a0d8b676909",
   "metadata": {},
   "outputs": [],
   "source": []
  }
 ],
 "metadata": {
  "kernelspec": {
   "display_name": "Python 3 (ipykernel)",
   "language": "python",
   "name": "python3"
  },
  "language_info": {
   "codemirror_mode": {
    "name": "ipython",
    "version": 3
   },
   "file_extension": ".py",
   "mimetype": "text/x-python",
   "name": "python",
   "nbconvert_exporter": "python",
   "pygments_lexer": "ipython3",
   "version": "3.11.8"
  }
 },
 "nbformat": 4,
 "nbformat_minor": 5
}
